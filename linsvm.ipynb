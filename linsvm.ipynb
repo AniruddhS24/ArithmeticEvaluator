{
  "nbformat": 4,
  "nbformat_minor": 0,
  "metadata": {
    "colab": {
      "name": "linsvm.ipynb",
      "provenance": [],
      "authorship_tag": "ABX9TyPombi63PJXOQsev02Fq6yB",
      "include_colab_link": true
    },
    "kernelspec": {
      "name": "python3",
      "display_name": "Python 3"
    }
  },
  "cells": [
    {
      "cell_type": "markdown",
      "metadata": {
        "id": "view-in-github",
        "colab_type": "text"
      },
      "source": [
        "<a href=\"https://colab.research.google.com/github/AniruddhS24/ArithmeticEvaluator/blob/master/linsvm.ipynb\" target=\"_parent\"><img src=\"https://colab.research.google.com/assets/colab-badge.svg\" alt=\"Open In Colab\"/></a>"
      ]
    },
    {
      "cell_type": "markdown",
      "metadata": {
        "id": "TVv6dEYDgzM-"
      },
      "source": [
        "SVM stuff"
      ]
    },
    {
      "cell_type": "code",
      "metadata": {
        "id": "hHpfNeizgOpg"
      },
      "source": [
        "class SVMMultiClass:\n",
        "    def __init__(self, gram, tf_idf, pairs, svms, vocab: Indexer, labels: Indexer, train_x, train_y):\n",
        "        self.gram = gram\n",
        "        self.tf_idf = tf_idf\n",
        "        self.pairs = pairs\n",
        "        self.svms = svms\n",
        "        self.vocab = vocab\n",
        "        self.labels = labels\n",
        "        self.train_x = train_x\n",
        "        self.train_y = train_y\n",
        "\n",
        "    def process_input(self, x):\n",
        "        x_arr = np.zeros(len(self.vocab))\n",
        "        for i in range(0, len(x) - self.gram + 1):\n",
        "            if (self.vocab.contains(x[i:i + self.gram])):\n",
        "                x_arr[self.vocab.index_of(x[i:i + self.gram])] += 1\n",
        "        if self.tf_idf:\n",
        "            x_arr /= np.sum(x_arr)\n",
        "            for w in range(len(x_arr)):\n",
        "                if np.sum((self.train_x[:, w] > 0)) > 0:\n",
        "                    x_arr[w] *= np.log(self.train_x.shape[1] / np.sum((self.train_x[:, w] > 0)))\n",
        "        return x_arr\n",
        "\n",
        "    def predict(self, x, targets):\n",
        "        x = self.process_input(x)\n",
        "        votes = np.zeros(len(self.labels))\n",
        "        for i in range(len(self.svms)):\n",
        "            pd = self.svms[i].predict(x)\n",
        "            votes[self.pairs[i][pd]]+=1\n",
        "\n",
        "        maxvotes = 0\n",
        "        res = targets[0]\n",
        "        for target in targets:\n",
        "            if votes[self.labels.index_of(target)] > maxvotes:\n",
        "                maxvotes = votes[self.labels.index_of(target)]\n",
        "                res = target\n",
        "\n",
        "        return res"
      ],
      "execution_count": null,
      "outputs": []
    }
  ]
}